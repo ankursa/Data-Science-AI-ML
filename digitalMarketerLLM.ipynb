{
 "cells": [
  {
   "cell_type": "code",
   "execution_count": 1,
   "id": "6e6d632e-47f8-421b-84c1-880df46b5605",
   "metadata": {},
   "outputs": [],
   "source": [
    "import ollama"
   ]
  },
  {
   "cell_type": "code",
   "execution_count": 2,
   "id": "b93db13d-7aad-4dd2-9c64-ee92290cf112",
   "metadata": {},
   "outputs": [],
   "source": [
    "# Read the file content\n",
    "with open(\"/Users/ankur/Projects/Codes/LLMs/DigitalMarketer/Google Report.csv\", \"r\") as f:\n",
    "    context = f.read()"
   ]
  },
  {
   "cell_type": "code",
   "execution_count": 3,
   "id": "659d506e-4bcb-4ce3-be5d-9c87cc6cd48f",
   "metadata": {},
   "outputs": [
    {
     "data": {
      "text/plain": [
       "'Search keyword\\n7 April 2025 - 30 April 2025\\nSearch keyword,Search keyword status,Search keyword status reasons,Search keyword match type,Campaign,Ad group,Currency code,Keyword max CPC,Clicks,Impr.,CTR,Avg. CPC,Cost,Impr. (Abs. Top) %,Impr. (Top) %,Conversions,View-through conv.,Cost / conv.,Conv. rate\\nadvanced digital marketing course,Not eligible,low quality; campaign paused,Exact match,Digital Marketing - Tier 1,digital marketing course,INR,0.01,0,5,0.00%,0,0.00,25.00%,100.00%,0.00,0,0,0\\nbest course of digital marketing,Not eligible,campaign paused,Exact match,Digital Marketing - Tier 1,digital marketing course,INR,0.01,0,0,0,0,0.00,0,0,0.00,0,0,0\\nbest digital marketing classes,Not eligible,campaign paused,Exact match,Digital Marketing - Tier 1,digital marketing course,INR,0.01,0,13,0.00%,0,0.00,0.00%,50.00%,0.00,0,0,0\\nbest digital marketing courses,Not eligible,low quality; campaign paused,Exact match,Digital Marketing - Tier 1,digital marketing course,INR,0.01,1,76,1.32%,98.12,98.12,15.79%,47.37%,0.00,0,0,0.00%\\nbest online digital marketing courses,Not eligible,campaign paused,Exact match,Digital Marketing - Tier 1,digital marketing course,INR,0.01,0,0,0,0,0.00,0,0,0.00,0,0,0\\nbest online marketing courses,Not eligible,campaign paused,Exact match,Digital Marketing - Tier 1,digital marketing course,INR,0.01,1,1,100.00%,48.10,48.10,0.00%,100.00%,0.00,0,0,0.00%\\nclass digital marketing,Not eligible,campaign paused,Exact match,Digital Marketing - Tier 1,digital marketing course,INR,0.01,0,0,0,0,0.00,0,0,0.00,0,0,0\\ncourses on digital marketing online,Not eligible,campaign paused,Exact match,Digital Marketing - Tier 1,digital marketing course,INR,0.01,0,1,0.00%,0,0.00,0.00%,0.00%,0.00,0,0,0\\ndigital marketing classes,Not eligible,campaign paused,Exact match,Digital Marketing - Tier 1,digital marketing course,INR,0.01,3,56,5.36%,186.70,560.10,17.78%,60.00%,0.00,0,0,0.00%\\ndigital marketing classes online,Not eligible,campaign paused,Exact match,Digital Marketing - Tier 1,digital marketing course,INR,0.01,0,1,0.00%,0,0.00,0.00%,0.00%,0.00,0,0,0\\ndigital marketing course,Not eligible,campaign paused,Exact match,Digital Marketing - Tier 1,digital marketing course,INR,0.01,28,889,3.15%,103.86,2908.21,18.15%,59.81%,0.00,0,0,0.00%\\ndigital marketing course online,Not eligible,campaign paused,Exact match,Digital Marketing - Tier 1,digital marketing course,INR,0.01,2,95,2.11%,120.50,240.99,20.00%,66.00%,0.00,0,0,0.00%\\ndigital marketing training,Not eligible,campaign paused,Exact match,Digital Marketing - Tier 1,digital marketing course,INR,0.01,2,26,7.69%,120.37,240.74,26.67%,86.67%,0.00,0,0,0.00%\\ninternet marketing course,Not eligible,campaign paused,Exact match,Digital Marketing - Tier 1,digital marketing course,INR,0.01,4,85,4.71%,71.11,284.45,23.21%,69.64%,0.00,0,0,0.00%\\nlearn digital marketing,Not eligible,low quality; campaign paused,Exact match,Digital Marketing - Tier 1,digital marketing course,INR,0.01,3,118,2.54%,171.60,514.81,23.33%,80.00%,0.00,0,0,0.00%\\nmarketing digital course online,Not eligible,campaign paused,Exact match,Digital Marketing - Tier 1,digital marketing course,INR,0.01,1,30,3.33%,69.89,69.89,52.00%,80.00%,0.00,0,0,0.00%\\nonline marketing classes,Not eligible,campaign paused,Exact match,Digital Marketing - Tier 1,digital marketing course,INR,0.01,1,46,2.17%,57.29,57.29,10.53%,60.53%,0.00,0,0,0.00%\\nonline marketing courses,Not eligible,campaign paused,Exact match,Digital Marketing - Tier 1,digital marketing course,INR,0.01,1,22,4.55%,129.85,129.85,14.29%,64.29%,0.00,0,0,0.00%\\nonline marketing online course,Not eligible,campaign paused,Exact match,Digital Marketing - Tier 1,digital marketing course,INR,0.01,0,4,0.00%,0,0.00,0.00%,75.00%,0.00,0,0,0\\nstudy digital marketing online,Not eligible,campaign paused,Exact match,Digital Marketing - Tier 1,digital marketing course,INR,0.01,0,0,0,0,0.00,0,0,0.00,0,0,0\\n'"
      ]
     },
     "execution_count": 3,
     "metadata": {},
     "output_type": "execute_result"
    }
   ],
   "source": [
    "context"
   ]
  },
  {
   "cell_type": "code",
   "execution_count": 4,
   "id": "5e5d6c3f-8003-42d9-bb7b-cc0e069c5aa3",
   "metadata": {},
   "outputs": [
    {
     "name": "stdout",
     "output_type": "stream",
     "text": [
      "The main topic of the document appears to be online search engine results related to various digital marketing courses and training programs, with metrics such as impressions (Impr.), clicks (Clicks), cost per click (Avg. CPC) and cost-per-conversion ratios provided for different ad groups and campaigns.\n",
      "\n",
      "However, upon a closer look, I'd say the main topic revolves around \"digital marketing\" and courses related to it. These include general phrases like \"digital marketing course\", \"best digital marketing classes\", \"online digital marketing courses\", etc. This suggests that these results are specifically focused on finding the best online digital marketing training or courses.\n"
     ]
    }
   ],
   "source": [
    "# Define the prompt\n",
    "prompt = f\"Based on the following context, answer the question:\\n\\n{context}\\n\\nQuestion: What is the main topic of the document?\\n\"\n",
    "\n",
    "# Send the prompt to Ollama\n",
    "response = ollama.generate(model='ravi', prompt=prompt)\n",
    "\n",
    "# Print the response\n",
    "print(response['response'])"
   ]
  },
  {
   "cell_type": "code",
   "execution_count": 5,
   "id": "6c91538c-0cc2-4b01-8402-571125b044f9",
   "metadata": {},
   "outputs": [
    {
     "name": "stdout",
     "output_type": "stream",
     "text": [
      "As per the given data, here are the top 5 campaigns with their respective CTR:\n",
      "\n",
      "1. **\"Best online marketing courses\", Campaign ID Not Available** - CTR: 100%\n",
      "2. **\"digital marketing classes online\", Campaign ID Not Available** - CTR: 0% (Note: Impr.(Top) % is shown for campaign \"best digital marketing classes\")\n",
      "3. **\"best course of digital marketing\", Campaign ID Not Available** - CTR: 0% \n",
      "4. **\"learn digital marketing\", Campaign ID Not Available** - CTR: 2.54%\n",
      "5. **\"class digital marketing\", Campaign ID Not Available** - No valid data, but a close look shows that \"internet marketing course\" had CTR around 4.71%, However based on given Top CTR it is best out of all those who gave valid numbers\n"
     ]
    }
   ],
   "source": [
    "prompt2 = f\"Based on the following context, answer the question:\\n\\n{context}\\n\\nQuestion: Which are the top 5 campaigns by CTR?\\n\"\n",
    "# Send the prompt to Ollama\n",
    "response = ollama.generate(model='ravi', prompt=prompt2)\n",
    "\n",
    "# Print the response\n",
    "print(response['response'])"
   ]
  },
  {
   "cell_type": "code",
   "execution_count": 10,
   "id": "ccb71a85-25fa-4049-ae69-9e32e2f652ea",
   "metadata": {},
   "outputs": [
    {
     "name": "stdout",
     "output_type": "stream",
     "text": [
      "The top 5 search keywords by Cost can be found from the provided data in the 'Cost' column.\n",
      "\n",
      "Here is a list of top 5 search keywords along with their respective costs:\n",
      "\n",
      "1. Digital marketing course online, INR 0.01, Cost: 2908.21\n",
      "2. Best digital marketing classes, Not eligible, Exact match, Digital Marketing - Tier 1, digital marketing course, INR, 0.01, 13, 15.79%, \n",
      "3. learn digital marketing, Not eligible, low quality; campaign paused, Exact match, Digital Marketing - Tier 1, digital marketing course, INR, 0.01, 118, 17.16%\n",
      "4. Best online digital marketing courses, Not eligible, Exact match, Digital Marketing - Tier 1, digital marketing course, INR, 0.01, 76, 15.79%\n",
      "5. internet marketing course, Not eligible, Exact match, Digital Marketing - Tier 1, digital marketing course, INR, 0.01, 85 \n",
      "\n",
      "However, upon further filtering by Cost / conv., only top three keywords show significant values that make sense to consider:\n",
      " \n",
      " 1. Best digital marketing classes, Not eligible, Exact match, Digital Marketing - Tier 1, digital marketing course, INR, 0.01, 13\n",
      "2. internet marketing course, Not eligible, Exact match, Digital Marketing - Tier 1, digital marketing course, INR, 0.01, 85 \n",
      "3. best online digital marketing courses, Not eligible, Exact match, Digital Marketing - Tier 1, digital marketing course, INR, 0.01, 76\n"
     ]
    }
   ],
   "source": [
    "prompt2 = f\"Based on the following context, answer the question:\\n\\n{context}\\n\\nQuestion: Which are the top 5 search keywords by Cost?\\n\"\n",
    "# Send the prompt to Ollama\n",
    "response = ollama.generate(model='pooja', prompt=prompt2)\n",
    "\n",
    "# Print the response\n",
    "print(response['response'])"
   ]
  },
  {
   "cell_type": "code",
   "execution_count": 11,
   "id": "e72c0438-d373-45d5-ae8b-f0dd1bfb581d",
   "metadata": {},
   "outputs": [],
   "source": [
    "import pandas as pd"
   ]
  },
  {
   "cell_type": "code",
   "execution_count": 12,
   "id": "09aed8e2-d69f-44ff-a27a-10a831f195bc",
   "metadata": {},
   "outputs": [
    {
     "ename": "ParserError",
     "evalue": "Error tokenizing data. C error: Expected 1 fields in line 3, saw 19\n",
     "output_type": "error",
     "traceback": [
      "\u001b[0;31m---------------------------------------------------------------------------\u001b[0m",
      "\u001b[0;31mParserError\u001b[0m                               Traceback (most recent call last)",
      "Cell \u001b[0;32mIn[12], line 1\u001b[0m\n\u001b[0;32m----> 1\u001b[0m goog \u001b[38;5;241m=\u001b[39m \u001b[43mpd\u001b[49m\u001b[38;5;241;43m.\u001b[39;49m\u001b[43mread_csv\u001b[49m\u001b[43m(\u001b[49m\u001b[38;5;124;43m'\u001b[39;49m\u001b[38;5;124;43m/Users/ankur/Projects/Codes/LLMs/DigitalMarketer/Google Report.csv\u001b[39;49m\u001b[38;5;124;43m'\u001b[39;49m\u001b[43m)\u001b[49m\n",
      "File \u001b[0;32m~/Projects/Codes/aidash/lib/python3.10/site-packages/pandas/io/parsers/readers.py:1026\u001b[0m, in \u001b[0;36mread_csv\u001b[0;34m(filepath_or_buffer, sep, delimiter, header, names, index_col, usecols, dtype, engine, converters, true_values, false_values, skipinitialspace, skiprows, skipfooter, nrows, na_values, keep_default_na, na_filter, verbose, skip_blank_lines, parse_dates, infer_datetime_format, keep_date_col, date_parser, date_format, dayfirst, cache_dates, iterator, chunksize, compression, thousands, decimal, lineterminator, quotechar, quoting, doublequote, escapechar, comment, encoding, encoding_errors, dialect, on_bad_lines, delim_whitespace, low_memory, memory_map, float_precision, storage_options, dtype_backend)\u001b[0m\n\u001b[1;32m   1013\u001b[0m kwds_defaults \u001b[38;5;241m=\u001b[39m _refine_defaults_read(\n\u001b[1;32m   1014\u001b[0m     dialect,\n\u001b[1;32m   1015\u001b[0m     delimiter,\n\u001b[0;32m   (...)\u001b[0m\n\u001b[1;32m   1022\u001b[0m     dtype_backend\u001b[38;5;241m=\u001b[39mdtype_backend,\n\u001b[1;32m   1023\u001b[0m )\n\u001b[1;32m   1024\u001b[0m kwds\u001b[38;5;241m.\u001b[39mupdate(kwds_defaults)\n\u001b[0;32m-> 1026\u001b[0m \u001b[38;5;28;01mreturn\u001b[39;00m \u001b[43m_read\u001b[49m\u001b[43m(\u001b[49m\u001b[43mfilepath_or_buffer\u001b[49m\u001b[43m,\u001b[49m\u001b[43m \u001b[49m\u001b[43mkwds\u001b[49m\u001b[43m)\u001b[49m\n",
      "File \u001b[0;32m~/Projects/Codes/aidash/lib/python3.10/site-packages/pandas/io/parsers/readers.py:626\u001b[0m, in \u001b[0;36m_read\u001b[0;34m(filepath_or_buffer, kwds)\u001b[0m\n\u001b[1;32m    623\u001b[0m     \u001b[38;5;28;01mreturn\u001b[39;00m parser\n\u001b[1;32m    625\u001b[0m \u001b[38;5;28;01mwith\u001b[39;00m parser:\n\u001b[0;32m--> 626\u001b[0m     \u001b[38;5;28;01mreturn\u001b[39;00m \u001b[43mparser\u001b[49m\u001b[38;5;241;43m.\u001b[39;49m\u001b[43mread\u001b[49m\u001b[43m(\u001b[49m\u001b[43mnrows\u001b[49m\u001b[43m)\u001b[49m\n",
      "File \u001b[0;32m~/Projects/Codes/aidash/lib/python3.10/site-packages/pandas/io/parsers/readers.py:1923\u001b[0m, in \u001b[0;36mTextFileReader.read\u001b[0;34m(self, nrows)\u001b[0m\n\u001b[1;32m   1916\u001b[0m nrows \u001b[38;5;241m=\u001b[39m validate_integer(\u001b[38;5;124m\"\u001b[39m\u001b[38;5;124mnrows\u001b[39m\u001b[38;5;124m\"\u001b[39m, nrows)\n\u001b[1;32m   1917\u001b[0m \u001b[38;5;28;01mtry\u001b[39;00m:\n\u001b[1;32m   1918\u001b[0m     \u001b[38;5;66;03m# error: \"ParserBase\" has no attribute \"read\"\u001b[39;00m\n\u001b[1;32m   1919\u001b[0m     (\n\u001b[1;32m   1920\u001b[0m         index,\n\u001b[1;32m   1921\u001b[0m         columns,\n\u001b[1;32m   1922\u001b[0m         col_dict,\n\u001b[0;32m-> 1923\u001b[0m     ) \u001b[38;5;241m=\u001b[39m \u001b[38;5;28;43mself\u001b[39;49m\u001b[38;5;241;43m.\u001b[39;49m\u001b[43m_engine\u001b[49m\u001b[38;5;241;43m.\u001b[39;49m\u001b[43mread\u001b[49m\u001b[43m(\u001b[49m\u001b[43m  \u001b[49m\u001b[38;5;66;43;03m# type: ignore[attr-defined]\u001b[39;49;00m\n\u001b[1;32m   1924\u001b[0m \u001b[43m        \u001b[49m\u001b[43mnrows\u001b[49m\n\u001b[1;32m   1925\u001b[0m \u001b[43m    \u001b[49m\u001b[43m)\u001b[49m\n\u001b[1;32m   1926\u001b[0m \u001b[38;5;28;01mexcept\u001b[39;00m \u001b[38;5;167;01mException\u001b[39;00m:\n\u001b[1;32m   1927\u001b[0m     \u001b[38;5;28mself\u001b[39m\u001b[38;5;241m.\u001b[39mclose()\n",
      "File \u001b[0;32m~/Projects/Codes/aidash/lib/python3.10/site-packages/pandas/io/parsers/c_parser_wrapper.py:234\u001b[0m, in \u001b[0;36mCParserWrapper.read\u001b[0;34m(self, nrows)\u001b[0m\n\u001b[1;32m    232\u001b[0m \u001b[38;5;28;01mtry\u001b[39;00m:\n\u001b[1;32m    233\u001b[0m     \u001b[38;5;28;01mif\u001b[39;00m \u001b[38;5;28mself\u001b[39m\u001b[38;5;241m.\u001b[39mlow_memory:\n\u001b[0;32m--> 234\u001b[0m         chunks \u001b[38;5;241m=\u001b[39m \u001b[38;5;28;43mself\u001b[39;49m\u001b[38;5;241;43m.\u001b[39;49m\u001b[43m_reader\u001b[49m\u001b[38;5;241;43m.\u001b[39;49m\u001b[43mread_low_memory\u001b[49m\u001b[43m(\u001b[49m\u001b[43mnrows\u001b[49m\u001b[43m)\u001b[49m\n\u001b[1;32m    235\u001b[0m         \u001b[38;5;66;03m# destructive to chunks\u001b[39;00m\n\u001b[1;32m    236\u001b[0m         data \u001b[38;5;241m=\u001b[39m _concatenate_chunks(chunks)\n",
      "File \u001b[0;32mpandas/_libs/parsers.pyx:838\u001b[0m, in \u001b[0;36mpandas._libs.parsers.TextReader.read_low_memory\u001b[0;34m()\u001b[0m\n",
      "File \u001b[0;32mpandas/_libs/parsers.pyx:905\u001b[0m, in \u001b[0;36mpandas._libs.parsers.TextReader._read_rows\u001b[0;34m()\u001b[0m\n",
      "File \u001b[0;32mpandas/_libs/parsers.pyx:874\u001b[0m, in \u001b[0;36mpandas._libs.parsers.TextReader._tokenize_rows\u001b[0;34m()\u001b[0m\n",
      "File \u001b[0;32mpandas/_libs/parsers.pyx:891\u001b[0m, in \u001b[0;36mpandas._libs.parsers.TextReader._check_tokenize_status\u001b[0;34m()\u001b[0m\n",
      "File \u001b[0;32mpandas/_libs/parsers.pyx:2061\u001b[0m, in \u001b[0;36mpandas._libs.parsers.raise_parser_error\u001b[0;34m()\u001b[0m\n",
      "\u001b[0;31mParserError\u001b[0m: Error tokenizing data. C error: Expected 1 fields in line 3, saw 19\n"
     ]
    }
   ],
   "source": [
    "goog = pd.read_csv('/Users/ankur/Projects/Codes/LLMs/DigitalMarketer/Google Report.csv')"
   ]
  },
  {
   "cell_type": "code",
   "execution_count": null,
   "id": "ea859cf8-0096-491d-a4c2-44ce6c2dca31",
   "metadata": {},
   "outputs": [],
   "source": []
  }
 ],
 "metadata": {
  "kernelspec": {
   "display_name": "Python 3 (ipykernel)",
   "language": "python",
   "name": "python3"
  },
  "language_info": {
   "codemirror_mode": {
    "name": "ipython",
    "version": 3
   },
   "file_extension": ".py",
   "mimetype": "text/x-python",
   "name": "python",
   "nbconvert_exporter": "python",
   "pygments_lexer": "ipython3",
   "version": "3.10.5"
  }
 },
 "nbformat": 4,
 "nbformat_minor": 5
}
